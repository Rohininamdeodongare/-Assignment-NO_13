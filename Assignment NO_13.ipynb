{
 "cells": [
  {
   "cell_type": "code",
   "execution_count": null,
   "id": "3a93ea05",
   "metadata": {},
   "outputs": [],
   "source": [
    "                Assignment NO_13"
   ]
  },
  {
   "cell_type": "code",
   "execution_count": null,
   "id": "81c2b021",
   "metadata": {},
   "outputs": [],
   "source": [
    "Q. 1. What advantages do Excel spreadsheets have over CSV spreadsheets?\n",
    "Answer:- Excel is more superior when compared with the CSV file format;\n",
    "    thus, CSV consumes less amount of file size when the user is importing data; \n",
    "    it is a much faster format compared to excel. CSV does not manipulate data \n",
    "    and stores it as-is. Excel also allows the user the add-in feature."
   ]
  },
  {
   "cell_type": "code",
   "execution_count": null,
   "id": "fbf6e18b",
   "metadata": {},
   "outputs": [],
   "source": [
    "Q. 2.What do you pass to csv.reader() and csv.writer() to create reader and writer objects?\n",
    "Answer:-\n",
    "    writer(): This function in csv module returns a writer object that\n",
    "        converts data into a delimited string and stores in a file object. ...\n",
    "writerow(): ...\n",
    "writerows(): ...\n",
    "reader(): ...\n",
    "DictWriter(): ...\n",
    "writeheader(): ...\n",
    "DictReader(): ...\n",
    "Dialect class."
   ]
  },
  {
   "cell_type": "code",
   "execution_count": null,
   "id": "55707a1d",
   "metadata": {},
   "outputs": [],
   "source": [
    "Q. 3. What modes do File objects for reader and writer objects need to be opened in?\n",
    "Answer:- \n",
    "    In order to open a file for reading or writing purposes, we must use the built-in\n",
    "    open() function. The open() function uses two arguments.\n",
    "...\n",
    "Where\n",
    "File_obj also called handle is the variable to add the file object.\n",
    "filename: Name of the file.\n",
    "mode: To tell the interpreter which way the file will be used."
   ]
  },
  {
   "cell_type": "code",
   "execution_count": null,
   "id": "70714805",
   "metadata": {},
   "outputs": [],
   "source": [
    "Q. 4. What method takes a list argument and writes it to a CSV file?\n",
    "Answer:-\n",
    "    The csv. writer writerow method takes an iterable as an argument.\n",
    "    Your result set has to be a list (rows) of lists (columns). Write \n",
    "    the row parameter to the writer's \n",
    "    file object, formatted according\n",
    "    to the current dialect."
   ]
  },
  {
   "cell_type": "code",
   "execution_count": null,
   "id": "ef99481f",
   "metadata": {},
   "outputs": [],
   "source": [
    "Q. 5. What do the keyword arguments delimiter and line terminator do?\n",
    "Answer:-\n",
    "    The delimiter and lineterminator Keyword Arguments\n",
    "This changes the delimiter and line terminator characters in your file. \n",
    "The delimiter is the character that appears between cells on a row. By default, \n",
    "the delimiter for a CSV file is a comma. The line terminator is the character\n",
    "that comes at the end of a row."
   ]
  },
  {
   "cell_type": "code",
   "execution_count": null,
   "id": "77715796",
   "metadata": {},
   "outputs": [],
   "source": [
    "Q. 6. What function takes a string of JSON data and returns a Python data structure?\n",
    "Answer:-\n",
    "    loads() method return Python data structure of JSON string or data."
   ]
  },
  {
   "cell_type": "code",
   "execution_count": null,
   "id": "8e6cb49f",
   "metadata": {},
   "outputs": [],
   "source": [
    "Q. 7. What function takes a Python data structure and returns a string of JSON data?\n",
    "Answer:-\n",
    "    loads() method return Python data structure of JSON string or data"
   ]
  }
 ],
 "metadata": {
  "kernelspec": {
   "display_name": "Python 3 (ipykernel)",
   "language": "python",
   "name": "python3"
  },
  "language_info": {
   "codemirror_mode": {
    "name": "ipython",
    "version": 3
   },
   "file_extension": ".py",
   "mimetype": "text/x-python",
   "name": "python",
   "nbconvert_exporter": "python",
   "pygments_lexer": "ipython3",
   "version": "3.9.12"
  }
 },
 "nbformat": 4,
 "nbformat_minor": 5
}
